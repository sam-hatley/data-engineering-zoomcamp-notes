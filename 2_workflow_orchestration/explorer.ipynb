{
 "cells": [
  {
   "cell_type": "code",
   "execution_count": 8,
   "metadata": {},
   "outputs": [
    {
     "name": "stderr",
     "output_type": "stream",
     "text": [
      "/tmp/ipykernel_16091/3879290440.py:9: DtypeWarning: Columns (6) have mixed types. Specify dtype option on import or set low_memory=False.\n",
      "  df = pd.read_csv(dataset_url)\n"
     ]
    }
   ],
   "source": [
    "import pandas as pd\n",
    "\n",
    "color = \"yellow\"\n",
    "year = 2021\n",
    "month = 1\n",
    "dataset_file = f\"{color}_tripdata_{year}-{month:02}\"\n",
    "dataset_url = f\"https://github.com/DataTalksClub/nyc-tlc-data/releases/download/{color}/{dataset_file}.csv.gz\"\n",
    "\n",
    "df = pd.read_csv(dataset_url)\n",
    "df.to_csv(\"'out.csv'\")"
   ]
  },
  {
   "cell_type": "code",
   "execution_count": 9,
   "metadata": {},
   "outputs": [
    {
     "data": {
      "text/plain": [
       "array([ 1.,  0.,  2.,  3.,  5.,  4.,  6.,  8.,  7., nan])"
      ]
     },
     "execution_count": 9,
     "metadata": {},
     "output_type": "execute_result"
    }
   ],
   "source": [
    "df['passenger_count'].unique()"
   ]
  },
  {
   "cell_type": "code",
   "execution_count": 10,
   "metadata": {},
   "outputs": [
    {
     "name": "stdout",
     "output_type": "stream",
     "text": [
      "df1: 7019375, df2: 7832545, together: 14851920.\n"
     ]
    }
   ],
   "source": [
    "import pandas as pd\n",
    "df = pd.read_parquet(\"/home/sam/git/data-engineering-zoomcamp-notes/2_workflow_orchestration/homework/data/yellow/yellow_tripdata_2019-02.parquet\")\n",
    "df1_len = len(df)\n",
    "df2 = pd.read_parquet(\"/home/sam/git/data-engineering-zoomcamp-notes/2_workflow_orchestration/homework/data/yellow/yellow_tripdata_2019-03.parquet\")\n",
    "df2_len = len(df2)\n",
    "print(f\"df1: {df1_len}, df2: {df2_len}, together: {df1_len + df2_len}.\")"
   ]
  },
  {
   "cell_type": "code",
   "execution_count": null,
   "metadata": {},
   "outputs": [],
   "source": []
  }
 ],
 "metadata": {
  "kernelspec": {
   "display_name": "prefect-dev",
   "language": "python",
   "name": "python3"
  },
  "language_info": {
   "codemirror_mode": {
    "name": "ipython",
    "version": 3
   },
   "file_extension": ".py",
   "mimetype": "text/x-python",
   "name": "python",
   "nbconvert_exporter": "python",
   "pygments_lexer": "ipython3",
   "version": "3.9.16"
  },
  "orig_nbformat": 4,
  "vscode": {
   "interpreter": {
    "hash": "0046b3f39f4585e1231b7a81963350ea32d4964b9224e34eaec3bd9fb7fbac15"
   }
  }
 },
 "nbformat": 4,
 "nbformat_minor": 2
}

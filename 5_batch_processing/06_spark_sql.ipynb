{
 "cells": [
  {
   "attachments": {},
   "cell_type": "markdown",
   "metadata": {},
   "source": [
    "# 5.3.4 - SQL with Spark"
   ]
  },
  {
   "cell_type": "code",
   "execution_count": 3,
   "metadata": {},
   "outputs": [
    {
     "name": "stderr",
     "output_type": "stream",
     "text": [
      "Setting default log level to \"WARN\".\n",
      "To adjust logging level use sc.setLogLevel(newLevel). For SparkR, use setLogLevel(newLevel).\n"
     ]
    },
    {
     "name": "stdout",
     "output_type": "stream",
     "text": [
      "23/03/02 20:26:30 WARN NativeCodeLoader: Unable to load native-hadoop library for your platform... using builtin-java classes where applicable\n"
     ]
    }
   ],
   "source": [
    "import pyspark\n",
    "from pyspark.sql import SparkSession, types\n",
    "\n",
    "spark = SparkSession.builder \\\n",
    "    .master('local[*]') \\\n",
    "    .appName('test') \\\n",
    "    .getOrCreate()"
   ]
  },
  {
   "attachments": {},
   "cell_type": "markdown",
   "metadata": {},
   "source": [
    "After importing the basics and setting up the session, load in taxi data:"
   ]
  },
  {
   "cell_type": "code",
   "execution_count": 7,
   "metadata": {},
   "outputs": [],
   "source": [
    "df_green = spark.read.parquet('data/pq/green/*/*/')\n",
    "df_yellow = spark.read.parquet('data/pq/yellow/*/*/')"
   ]
  },
  {
   "cell_type": "code",
   "execution_count": 13,
   "metadata": {},
   "outputs": [
    {
     "name": "stdout",
     "output_type": "stream",
     "text": [
      "root\n",
      " |-- VendorID: long (nullable = true)\n",
      " |-- tpep_pickup_datetime: timestamp (nullable = true)\n",
      " |-- tpep_dropoff_datetime: timestamp (nullable = true)\n",
      " |-- passenger_count: integer (nullable = true)\n",
      " |-- trip_distance: double (nullable = true)\n",
      " |-- RatecodeID: integer (nullable = true)\n",
      " |-- store_and_fwd_flag: string (nullable = true)\n",
      " |-- PULocationID: integer (nullable = true)\n",
      " |-- DOLocationID: integer (nullable = true)\n",
      " |-- payment_type: integer (nullable = true)\n",
      " |-- fare_amount: double (nullable = true)\n",
      " |-- extra: double (nullable = true)\n",
      " |-- mta_tax: double (nullable = true)\n",
      " |-- tip_amount: double (nullable = true)\n",
      " |-- tolls_amount: double (nullable = true)\n",
      " |-- improvement_surcharge: double (nullable = true)\n",
      " |-- total_amount: double (nullable = true)\n",
      " |-- congestion_surcharge: double (nullable = true)\n",
      "\n"
     ]
    }
   ],
   "source": [
    "df_yellow.printSchema()"
   ]
  },
  {
   "attachments": {},
   "cell_type": "markdown",
   "metadata": {},
   "source": [
    "Want to run a transformation that works on both datasets, so we'll merge these below on the fields that match. We'll have to rename one or both sets so that the date column matches in name."
   ]
  },
  {
   "cell_type": "code",
   "execution_count": 14,
   "metadata": {},
   "outputs": [],
   "source": [
    "df_green = df_green \\\n",
    "    .withColumnRenamed('lpep_pickup_datetime', 'pickup_datetime') \\\n",
    "    .withColumnRenamed('lpep_dropoff_datetime', 'dropoff_datetime')\n",
    "\n",
    "df_yellow = df_yellow \\\n",
    "    .withColumnRenamed('tpep_pickup_datetime', 'pickup_datetime') \\\n",
    "    .withColumnRenamed('tpep_dropoff_datetime', 'dropoff_datetime')"
   ]
  },
  {
   "cell_type": "code",
   "execution_count": 15,
   "metadata": {},
   "outputs": [
    {
     "data": {
      "text/plain": [
       "{'DOLocationID',\n",
       " 'PULocationID',\n",
       " 'RatecodeID',\n",
       " 'VendorID',\n",
       " 'congestion_surcharge',\n",
       " 'dropoff_datetime',\n",
       " 'extra',\n",
       " 'fare_amount',\n",
       " 'improvement_surcharge',\n",
       " 'mta_tax',\n",
       " 'passenger_count',\n",
       " 'payment_type',\n",
       " 'pickup_datetime',\n",
       " 'store_and_fwd_flag',\n",
       " 'tip_amount',\n",
       " 'tolls_amount',\n",
       " 'total_amount',\n",
       " 'trip_distance'}"
      ]
     },
     "execution_count": 15,
     "metadata": {},
     "output_type": "execute_result"
    }
   ],
   "source": [
    "set(df_green.columns) & set(df_yellow.columns)"
   ]
  },
  {
   "attachments": {},
   "cell_type": "markdown",
   "metadata": {},
   "source": [
    "We won't use this set exactly, as we want to preserve the column order"
   ]
  },
  {
   "cell_type": "code",
   "execution_count": 16,
   "metadata": {},
   "outputs": [
    {
     "data": {
      "text/plain": [
       "['VendorID',\n",
       " 'pickup_datetime',\n",
       " 'dropoff_datetime',\n",
       " 'store_and_fwd_flag',\n",
       " 'RatecodeID',\n",
       " 'PULocationID',\n",
       " 'DOLocationID',\n",
       " 'passenger_count',\n",
       " 'trip_distance',\n",
       " 'fare_amount',\n",
       " 'extra',\n",
       " 'mta_tax',\n",
       " 'tip_amount',\n",
       " 'tolls_amount',\n",
       " 'improvement_surcharge',\n",
       " 'total_amount',\n",
       " 'payment_type',\n",
       " 'congestion_surcharge']"
      ]
     },
     "execution_count": 16,
     "metadata": {},
     "output_type": "execute_result"
    }
   ],
   "source": [
    "common_columns = []\n",
    "for column in df_green.columns:\n",
    "    if column in df_yellow.columns:\n",
    "        common_columns.append(column)\n",
    "\n",
    "common_columns"
   ]
  },
  {
   "attachments": {},
   "cell_type": "markdown",
   "metadata": {},
   "source": [
    "We'll append a `service_type` column to ensure we know where the data is coming from in each case. We'll need to use the `literal` function for god knows what reason in this case."
   ]
  },
  {
   "cell_type": "code",
   "execution_count": 18,
   "metadata": {},
   "outputs": [],
   "source": [
    "from pyspark.sql import functions as F\n",
    "\n",
    "df_green_sel = df_green \\\n",
    "    .select(common_columns) \\\n",
    "    .withColumn('service_type', F.lit('green'))\n",
    "\n",
    "df_yellow_sel = df_yellow \\\n",
    "    .select(common_columns) \\\n",
    "    .withColumn('service_type', F.lit('yellow'))"
   ]
  },
  {
   "cell_type": "code",
   "execution_count": 19,
   "metadata": {},
   "outputs": [],
   "source": [
    "df_trips_data = df_green_sel.unionAll(df_yellow_sel)"
   ]
  },
  {
   "cell_type": "code",
   "execution_count": 21,
   "metadata": {},
   "outputs": [
    {
     "name": "stderr",
     "output_type": "stream",
     "text": [
      "[Stage 10:=============================================>          (13 + 3) / 16]\r"
     ]
    },
    {
     "name": "stdout",
     "output_type": "stream",
     "text": [
      "+------------+--------+\n",
      "|Service_type|   count|\n",
      "+------------+--------+\n",
      "|       green| 2304517|\n",
      "|      yellow|39649199|\n",
      "+------------+--------+\n",
      "\n"
     ]
    },
    {
     "name": "stderr",
     "output_type": "stream",
     "text": [
      "                                                                                \r"
     ]
    }
   ],
   "source": [
    "df_trips_data.groupBy('Service_type').count().show()"
   ]
  },
  {
   "attachments": {},
   "cell_type": "markdown",
   "metadata": {},
   "source": [
    "We haven't *really* used SQL so far- from here we can give it a go on the combined dataset. We need to register the df as a table to start."
   ]
  },
  {
   "cell_type": "code",
   "execution_count": 22,
   "metadata": {},
   "outputs": [
    {
     "name": "stderr",
     "output_type": "stream",
     "text": [
      "/home/sam/anaconda3/envs/pyspark/lib/python3.9/site-packages/pyspark/sql/dataframe.py:229: FutureWarning: Deprecated in 2.0, use createOrReplaceTempView instead.\n",
      "  warnings.warn(\"Deprecated in 2.0, use createOrReplaceTempView instead.\", FutureWarning)\n"
     ]
    }
   ],
   "source": [
    "df_trips_data.registerTempTable('trips_data')"
   ]
  },
  {
   "cell_type": "code",
   "execution_count": 27,
   "metadata": {},
   "outputs": [
    {
     "name": "stderr",
     "output_type": "stream",
     "text": [
      "[Stage 19:=================================================>      (14 + 2) / 16]\r"
     ]
    },
    {
     "name": "stdout",
     "output_type": "stream",
     "text": [
      "+------------+-------------+\n",
      "|service_type|records_count|\n",
      "+------------+-------------+\n",
      "|       green|      2304517|\n",
      "|      yellow|     39649199|\n",
      "+------------+-------------+\n",
      "\n"
     ]
    },
    {
     "name": "stderr",
     "output_type": "stream",
     "text": [
      "                                                                                \r"
     ]
    }
   ],
   "source": [
    "spark.sql(\"\"\"\n",
    "    SELECT\n",
    "        service_type,\n",
    "        COUNT(*) AS records_count\n",
    "    FROM trips_data\n",
    "    GROUP BY service_type\n",
    "    \"\"\").show()"
   ]
  },
  {
   "attachments": {},
   "cell_type": "markdown",
   "metadata": {},
   "source": [
    "Now going to execute a query from week 4: [dm_monthly_zone_revenue.sql](https://github.com/DataTalksClub/data-engineering-zoomcamp/blob/main/week_4_analytics_engineering/taxi_rides_ny/models/core/dm_monthly_zone_revenue.sql)"
   ]
  },
  {
   "cell_type": "code",
   "execution_count": 29,
   "metadata": {},
   "outputs": [
    {
     "data": {
      "text/plain": [
       "['VendorID',\n",
       " 'pickup_datetime',\n",
       " 'dropoff_datetime',\n",
       " 'store_and_fwd_flag',\n",
       " 'RatecodeID',\n",
       " 'PULocationID',\n",
       " 'DOLocationID',\n",
       " 'passenger_count',\n",
       " 'trip_distance',\n",
       " 'fare_amount',\n",
       " 'extra',\n",
       " 'mta_tax',\n",
       " 'tip_amount',\n",
       " 'tolls_amount',\n",
       " 'improvement_surcharge',\n",
       " 'total_amount',\n",
       " 'payment_type',\n",
       " 'congestion_surcharge',\n",
       " 'service_type']"
      ]
     },
     "execution_count": 29,
     "metadata": {},
     "output_type": "execute_result"
    }
   ],
   "source": [
    "df_trips_data.columns"
   ]
  },
  {
   "cell_type": "code",
   "execution_count": 34,
   "metadata": {},
   "outputs": [],
   "source": [
    "df_result = spark.sql(\"\"\"\n",
    "    SELECT \n",
    "        -- Revenue grouping \n",
    "        PULocationID AS revenue_zone,\n",
    "        DATE_TRUNC('month', pickup_datetime) AS revenue_month, \n",
    "\n",
    "        service_type, \n",
    "\n",
    "        -- Revenue calculation \n",
    "        SUM(fare_amount) AS revenue_monthly_fare,\n",
    "        SUM(extra) AS revenue_monthly_extra,\n",
    "        SUM(mta_tax) AS revenue_monthly_mta_tax,\n",
    "        SUM(tip_amount) AS revenue_monthly_tip_amount,\n",
    "        SUM(tolls_amount) AS revenue_monthly_tolls_amount,\n",
    "        SUM(improvement_surcharge) AS revenue_monthly_improvement_surcharge,\n",
    "        SUM(total_amount) AS revenue_monthly_total_amount,\n",
    "        SUM(congestion_surcharge) AS revenue_monthly_congestion_surcharge,\n",
    "\n",
    "        -- Additional calculations\n",
    "        COUNT(*) AS total_monthly_trips,\n",
    "        AVG(passenger_count) AS avg_montly_passenger_count,\n",
    "        AVG(trip_distance) AS avg_montly_trip_distance\n",
    "\n",
    "    FROM trips_data\n",
    "    GROUP BY\n",
    "        revenue_zone,\n",
    "        revenue_month,\n",
    "        service_type\n",
    "    ORDER BY\n",
    "        revenue_zone,\n",
    "        revenue_month,\n",
    "        service_type\n",
    "\"\"\")"
   ]
  },
  {
   "cell_type": "code",
   "execution_count": 35,
   "metadata": {},
   "outputs": [
    {
     "name": "stderr",
     "output_type": "stream",
     "text": [
      "[Stage 28:====================================================>   (15 + 1) / 16]\r"
     ]
    },
    {
     "name": "stdout",
     "output_type": "stream",
     "text": [
      "+------------+-------------------+------------+--------------------+---------------------+-----------------------+--------------------------+----------------------------+-------------------------------------+----------------------------+------------------------------------+-------------------+--------------------------+------------------------+\n",
      "|revenue_zone|      revenue_month|service_type|revenue_monthly_fare|revenue_monthly_extra|revenue_monthly_mta_tax|revenue_monthly_tip_amount|revenue_monthly_tolls_amount|revenue_monthly_improvement_surcharge|revenue_monthly_total_amount|revenue_monthly_congestion_surcharge|total_monthly_trips|avg_montly_passenger_count|avg_montly_trip_distance|\n",
      "+------------+-------------------+------------+--------------------+---------------------+-----------------------+--------------------------+----------------------------+-------------------------------------+----------------------------+------------------------------------+-------------------+--------------------------+------------------------+\n",
      "|           1|2020-01-01 00:00:00|       green|               391.0|                  0.0|                    0.0|         74.41000000000001|                         0.0|                                  1.2|                      466.61|                                 0.0|                  4|                      1.25|                     0.0|\n",
      "|           1|2020-01-01 00:00:00|      yellow|   62101.32999999999|                 29.0|                  106.0|         9138.460000000001|          2877.4599999999996|                    221.3999999999986|           74478.64999999992|                                 5.0|                755|         1.594953519256308|      0.9007152317880794|\n",
      "|           1|2020-02-01 00:00:00|       green|               384.5|                  1.0|                    0.5|                     53.34|                         0.0|                                  1.5|          440.84000000000003|                                 0.0|                  5|                       1.0|                     2.8|\n",
      "|           1|2020-02-01 00:00:00|      yellow|            50083.31|                 11.0|                   85.0|        6558.8099999999995|                     1981.64|                   182.39999999999947|           58909.11000000006|                                 5.0|                621|        1.5193548387096774|      1.0048470209339775|\n",
      "|           1|2020-03-01 00:00:00|       green|               276.0|                  0.0|                    1.0|                     90.76|                         0.0|                                  1.5|                      369.26|                                 0.0|                  5|                       1.4|                     0.0|\n",
      "|           1|2020-03-01 00:00:00|      yellow|            26563.72|                 12.3|                   49.5|        3530.6699999999987|                     1036.38|                    99.89999999999972|           31304.96999999995|                                12.5|                339|        1.4542772861356932|       1.211858407079646|\n",
      "|           1|2020-04-01 00:00:00|       green|              184.55|                  0.0|                    0.5|                       0.0|                         0.0|                                  0.6|                      188.15|                                 0.0|                  2|                       1.0|                   9.365|\n",
      "|           1|2020-04-01 00:00:00|      yellow|               420.5|                  1.8|                    2.0|         5.159999999999999|                         0.0|                                  2.4|                      431.86|                                 0.0|                  9|                       1.0|      1.3833333333333333|\n",
      "|           1|2020-05-01 00:00:00|      yellow|   856.1199999999999|                  0.0|                    2.5|        154.42000000000002|                       39.25|                   3.8999999999999995|                     1058.69|                                 2.5|                 13|        1.1666666666666667|      4.3792307692307695|\n",
      "|           1|2020-06-01 00:00:00|      yellow|  1396.4299999999998|                  3.0|                    5.5|        221.65000000000003|                       79.75|                    6.899999999999998|          1719.0799999999995|                                 0.0|                 25|                       2.0|      2.6664000000000003|\n",
      "|           1|2020-07-01 00:00:00|       green|               206.5|                  0.0|                    1.0|                       5.5|                        23.0|                   0.8999999999999999|          236.89999999999998|                                 0.0|                  3|                       1.0|      18.133333333333333|\n",
      "|           1|2020-07-01 00:00:00|      yellow|             2413.51|                  1.0|                    5.0|        249.71000000000004|                       81.67|                   10.500000000000004|           2767.790000000001|                                 2.5|                 35|        1.2857142857142858|      1.1654285714285715|\n",
      "|           1|2020-08-01 00:00:00|       green|                82.5|                  0.0|                    0.5|                      2.75|                       13.75|                                  0.6|                       100.1|                                 0.0|                  2|                       1.5|                    8.07|\n",
      "|           1|2020-08-01 00:00:00|      yellow|              3769.0|                  3.0|                    6.0|                     478.6|                       39.25|                   19.500000000000025|           4315.350000000003|                                 0.0|                 65|                  1.328125|      1.6513846153846155|\n",
      "|           1|2020-09-01 00:00:00|      yellow|              3159.0|                  0.0|                    6.5|                    434.08|                       57.25|                    13.50000000000001|          3670.3300000000013|                                 0.0|                 45|        1.6444444444444444|      0.8360000000000001|\n",
      "|           1|2020-10-01 00:00:00|       green|               199.0|                  1.0|                    0.5|                     20.06|                       25.99|                                  0.6|                      247.15|                                 0.0|                  2|                       1.0|                   18.56|\n",
      "|           1|2020-10-01 00:00:00|      yellow|  3757.3199999999997|                  2.0|                    8.0|                    418.48|                       166.4|                    17.10000000000002|           4371.800000000003|                                 2.5|                 60|         1.305084745762712|      2.1716666666666664|\n",
      "|           1|2020-11-01 00:00:00|       green|               187.0|                  0.0|                    0.0|                      24.0|                         0.0|                                  0.6|                       211.6|                                 0.0|                  2|                       1.0|                     0.0|\n",
      "|           1|2020-11-01 00:00:00|      yellow|   4684.330000000001|                  1.5|                   11.0|                    713.18|                      146.25|                    21.90000000000002|          5580.6600000000035|                                 2.5|                 75|        1.2533333333333334|       2.027333333333333|\n",
      "|           1|2020-12-01 00:00:00|       green|              120.09|                  0.0|                    0.0|                       0.0|                         0.0|                                  0.3|                      120.39|                                 0.0|                  1|                       1.0|                     0.0|\n",
      "+------------+-------------------+------------+--------------------+---------------------+-----------------------+--------------------------+----------------------------+-------------------------------------+----------------------------+------------------------------------+-------------------+--------------------------+------------------------+\n",
      "only showing top 20 rows\n",
      "\n"
     ]
    },
    {
     "name": "stderr",
     "output_type": "stream",
     "text": [
      "                                                                                \r"
     ]
    }
   ],
   "source": [
    "df_result.show()"
   ]
  },
  {
   "cell_type": "code",
   "execution_count": 37,
   "metadata": {},
   "outputs": [
    {
     "name": "stderr",
     "output_type": "stream",
     "text": [
      "                                                                                \r"
     ]
    }
   ],
   "source": [
    "df_result.write.parquet('./data/report/revenue')"
   ]
  },
  {
   "cell_type": "code",
   "execution_count": 38,
   "metadata": {},
   "outputs": [
    {
     "name": "stdout",
     "output_type": "stream",
     "text": [
      "total 524K\n",
      "-rw-r--r-- 1 sam sam    0 Mar  2 21:14 _SUCCESS\n",
      "-rw-r--r-- 1 sam sam 522K Mar  2 21:14 part-00000-e7e14d87-9837-4b65-b646-46955c7141c8-c000.snappy.parquet\n"
     ]
    }
   ],
   "source": [
    "!ls -lh ./data/report/revenue"
   ]
  },
  {
   "attachments": {},
   "cell_type": "markdown",
   "metadata": {},
   "source": [
    "In this case, there's only one file- if there are multiple redundant files, we could use the `coalesce()` function to reduce the number of files produced:\n",
    "\n",
    "```py\n",
    "df_result \\\n",
    "    .coalesce(1) \\\n",
    "    .write \\\n",
    "    .parquet('./data/report/revenue', mode='overwrite')\n",
    "```"
   ]
  }
 ],
 "metadata": {
  "kernelspec": {
   "display_name": "pyspark",
   "language": "python",
   "name": "python3"
  },
  "language_info": {
   "codemirror_mode": {
    "name": "ipython",
    "version": 3
   },
   "file_extension": ".py",
   "mimetype": "text/x-python",
   "name": "python",
   "nbconvert_exporter": "python",
   "pygments_lexer": "ipython3",
   "version": "3.9.16"
  },
  "orig_nbformat": 4
 },
 "nbformat": 4,
 "nbformat_minor": 2
}

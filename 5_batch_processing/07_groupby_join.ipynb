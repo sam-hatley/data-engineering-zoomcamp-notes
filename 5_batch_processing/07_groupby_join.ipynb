{
 "cells": [
  {
   "cell_type": "code",
   "execution_count": 1,
   "metadata": {},
   "outputs": [
    {
     "name": "stderr",
     "output_type": "stream",
     "text": [
      "Setting default log level to \"WARN\".\n",
      "To adjust logging level use sc.setLogLevel(newLevel). For SparkR, use setLogLevel(newLevel).\n"
     ]
    },
    {
     "name": "stdout",
     "output_type": "stream",
     "text": [
      "23/03/03 19:51:23 WARN NativeCodeLoader: Unable to load native-hadoop library for your platform... using builtin-java classes where applicable\n"
     ]
    }
   ],
   "source": [
    "import pyspark\n",
    "from pyspark.sql import SparkSession, types\n",
    "\n",
    "spark = SparkSession.builder \\\n",
    "    .master('local[*]') \\\n",
    "    .appName('test') \\\n",
    "    .getOrCreate()"
   ]
  },
  {
   "cell_type": "code",
   "execution_count": 2,
   "metadata": {},
   "outputs": [
    {
     "name": "stderr",
     "output_type": "stream",
     "text": [
      "                                                                                \r"
     ]
    }
   ],
   "source": [
    "df_green = spark.read.parquet('./data/pq/green/*/*/')"
   ]
  },
  {
   "cell_type": "code",
   "execution_count": 3,
   "metadata": {},
   "outputs": [
    {
     "name": "stderr",
     "output_type": "stream",
     "text": [
      "/home/sam/anaconda3/envs/pyspark/lib/python3.9/site-packages/pyspark/sql/dataframe.py:229: FutureWarning: Deprecated in 2.0, use createOrReplaceTempView instead.\n",
      "  warnings.warn(\"Deprecated in 2.0, use createOrReplaceTempView instead.\", FutureWarning)\n"
     ]
    }
   ],
   "source": [
    "df_green.registerTempTable('green')"
   ]
  },
  {
   "cell_type": "code",
   "execution_count": 4,
   "metadata": {},
   "outputs": [],
   "source": [
    "df_result = spark.sql(\"\"\"\n",
    "    SELECT \n",
    "        DATE_TRUNC('hour', lpep_pickup_datetime) AS hour, \n",
    "        PULocationID AS revenue_zone,\n",
    "        ROUND(SUM(total_amount), 2) AS amount,\n",
    "        COUNT(*) AS number_records\n",
    "    FROM green\n",
    "    WHERE lpep_pickup_datetime >= '2020-01-01'\n",
    "    GROUP BY\n",
    "        hour,\n",
    "        revenue_zone\n",
    "    ORDER BY\n",
    "        hour,\n",
    "        revenue_zone\n",
    "\"\"\")"
   ]
  },
  {
   "cell_type": "code",
   "execution_count": 5,
   "metadata": {},
   "outputs": [
    {
     "name": "stderr",
     "output_type": "stream",
     "text": [
      "[Stage 3:>                                                          (0 + 4) / 4]\r"
     ]
    },
    {
     "name": "stdout",
     "output_type": "stream",
     "text": [
      "+-------------------+------------+-------+--------------+\n",
      "|               hour|revenue_zone| amount|number_records|\n",
      "+-------------------+------------+-------+--------------+\n",
      "|2020-01-01 00:00:00|           7| 769.73|            45|\n",
      "|2020-01-01 00:00:00|          17| 195.03|             9|\n",
      "|2020-01-01 00:00:00|          18|    7.8|             1|\n",
      "|2020-01-01 00:00:00|          22|   15.8|             1|\n",
      "|2020-01-01 00:00:00|          24|   87.6|             3|\n",
      "|2020-01-01 00:00:00|          25|  531.0|            26|\n",
      "|2020-01-01 00:00:00|          29|   61.3|             1|\n",
      "|2020-01-01 00:00:00|          32|  68.95|             2|\n",
      "|2020-01-01 00:00:00|          33| 317.27|            11|\n",
      "|2020-01-01 00:00:00|          35| 129.96|             5|\n",
      "|2020-01-01 00:00:00|          36| 295.34|            11|\n",
      "|2020-01-01 00:00:00|          37| 175.67|             6|\n",
      "|2020-01-01 00:00:00|          38|  98.79|             2|\n",
      "|2020-01-01 00:00:00|          40| 168.98|             8|\n",
      "|2020-01-01 00:00:00|          41|1363.96|            84|\n",
      "|2020-01-01 00:00:00|          42| 799.76|            52|\n",
      "|2020-01-01 00:00:00|          43| 107.52|             6|\n",
      "|2020-01-01 00:00:00|          47|   13.3|             1|\n",
      "|2020-01-01 00:00:00|          49| 266.76|            14|\n",
      "|2020-01-01 00:00:00|          51|   17.8|             2|\n",
      "+-------------------+------------+-------+--------------+\n",
      "only showing top 20 rows\n",
      "\n"
     ]
    },
    {
     "name": "stderr",
     "output_type": "stream",
     "text": [
      "                                                                                \r"
     ]
    }
   ],
   "source": [
    "df_result.show()"
   ]
  },
  {
   "cell_type": "code",
   "execution_count": 19,
   "metadata": {},
   "outputs": [
    {
     "name": "stderr",
     "output_type": "stream",
     "text": [
      "                                                                                \r"
     ]
    }
   ],
   "source": [
    "df_result.write.parquet('./data/report/revenue/green/')"
   ]
  },
  {
   "attachments": {},
   "cell_type": "markdown",
   "metadata": {},
   "source": [
    "What's happening above:\n",
    "    - Partitions are sent to executors\n",
    "    - executors first apply the filters we specify, then run transformations to provide intermediate results\n",
    "    - intermediate results are *reshuffled* to executors, in this case based on hour and zone: these must end up in the same output partition \n",
    "    - if there's an `ORDER BY` command, another stage will order "
   ]
  },
  {
   "cell_type": "code",
   "execution_count": 21,
   "metadata": {},
   "outputs": [
    {
     "name": "stderr",
     "output_type": "stream",
     "text": [
      "                                                                                \r"
     ]
    }
   ],
   "source": [
    "df_yellow = spark.read.parquet('./data/pq/yellow/*/*/')\n",
    "df_yellow.registerTempTable('yellow')\n",
    "\n",
    "df_result = spark.sql(\"\"\"\n",
    "    SELECT \n",
    "        DATE_TRUNC('hour', tpep_pickup_datetime) AS hour, \n",
    "        PULocationID AS revenue_zone,\n",
    "        ROUND(SUM(total_amount), 2) AS amount,\n",
    "        COUNT(*) AS number_records\n",
    "    FROM yellow\n",
    "    WHERE tpep_pickup_datetime >= '2020-01-01'\n",
    "    GROUP BY\n",
    "        hour,\n",
    "        revenue_zone\n",
    "    ORDER BY\n",
    "        hour,\n",
    "        revenue_zone\n",
    "\"\"\")\n",
    "\n",
    "df_result.write.parquet('./data/report/revenue/yellow/')"
   ]
  },
  {
   "cell_type": "code",
   "execution_count": 22,
   "metadata": {},
   "outputs": [
    {
     "name": "stderr",
     "output_type": "stream",
     "text": [
      "[Stage 31:===================================================>    (11 + 1) / 12]\r"
     ]
    },
    {
     "name": "stdout",
     "output_type": "stream",
     "text": [
      "+-------------------+------------+-------+--------------+\n",
      "|               hour|revenue_zone| amount|number_records|\n",
      "+-------------------+------------+-------+--------------+\n",
      "|2020-01-01 00:00:00|           3|   25.0|             1|\n",
      "|2020-01-01 00:00:00|           4| 1004.3|            57|\n",
      "|2020-01-01 00:00:00|           7| 455.17|            38|\n",
      "|2020-01-01 00:00:00|          10|  42.41|             2|\n",
      "|2020-01-01 00:00:00|          12|  107.0|             6|\n",
      "|2020-01-01 00:00:00|          13| 1214.8|            56|\n",
      "|2020-01-01 00:00:00|          14|    8.8|             1|\n",
      "|2020-01-01 00:00:00|          15|  34.09|             1|\n",
      "|2020-01-01 00:00:00|          17| 220.21|             8|\n",
      "|2020-01-01 00:00:00|          18|    5.8|             1|\n",
      "|2020-01-01 00:00:00|          24| 754.95|            45|\n",
      "|2020-01-01 00:00:00|          25| 324.35|            16|\n",
      "|2020-01-01 00:00:00|          32|   18.0|             1|\n",
      "|2020-01-01 00:00:00|          33| 255.56|             8|\n",
      "|2020-01-01 00:00:00|          34|   19.3|             1|\n",
      "|2020-01-01 00:00:00|          36| 109.17|             3|\n",
      "|2020-01-01 00:00:00|          37| 161.61|             7|\n",
      "|2020-01-01 00:00:00|          40|  89.97|             5|\n",
      "|2020-01-01 00:00:00|          41|1256.53|            80|\n",
      "|2020-01-01 00:00:00|          42| 635.35|            46|\n",
      "+-------------------+------------+-------+--------------+\n",
      "only showing top 20 rows\n",
      "\n"
     ]
    },
    {
     "name": "stderr",
     "output_type": "stream",
     "text": [
      "                                                                                \r"
     ]
    }
   ],
   "source": [
    "df_result.show()"
   ]
  },
  {
   "attachments": {},
   "cell_type": "markdown",
   "metadata": {},
   "source": [
    "# 5.4.3 - Joins in Spark\n",
    "\n",
    "Want to join the two above tables into one, with a schema somewhat like:\n",
    "- Hour\n",
    "- Zone\n",
    "- Revenue yellow\n",
    "- Number trips yellow\n",
    "- Revenue green\n",
    "- Number trips green\n",
    "\n",
    "Essentially, we're joining the two tables on hour and zone. We'll need to rename at least one of the sets to include identifying language, as below."
   ]
  },
  {
   "cell_type": "code",
   "execution_count": 25,
   "metadata": {},
   "outputs": [],
   "source": [
    "df_green_revenue = spark.read.parquet('./data/report/revenue/green/*')\n",
    "df_yellow_revenue = spark.read.parquet('./data/report/revenue/yellow/*')"
   ]
  },
  {
   "cell_type": "code",
   "execution_count": 26,
   "metadata": {},
   "outputs": [],
   "source": [
    "df_green_revenue = df_green_revenue \\\n",
    "    .withColumnRenamed('amount', 'amount_green',) \\\n",
    "    .withColumnRenamed('number_records', 'records_green')\n",
    "\n",
    "df_yellow_revenue = df_yellow_revenue \\\n",
    "    .withColumnRenamed('amount', 'amount_yellow',) \\\n",
    "    .withColumnRenamed('number_records', 'records_yellow')"
   ]
  },
  {
   "cell_type": "code",
   "execution_count": 27,
   "metadata": {},
   "outputs": [],
   "source": [
    "df_join = df_green_revenue \\\n",
    "    .join(df_yellow_revenue, on=['hour', 'revenue_zone'], how='outer')"
   ]
  },
  {
   "cell_type": "code",
   "execution_count": 28,
   "metadata": {},
   "outputs": [
    {
     "name": "stderr",
     "output_type": "stream",
     "text": [
      "[Stage 37:==============>                                           (1 + 3) / 4]\r"
     ]
    },
    {
     "name": "stdout",
     "output_type": "stream",
     "text": [
      "+-------------------+------------+------------+-------------+-------------+--------------+\n",
      "|               hour|revenue_zone|amount_green|records_green|amount_yellow|records_yellow|\n",
      "+-------------------+------------+------------+-------------+-------------+--------------+\n",
      "|2020-01-01 00:00:00|           3|        null|         null|         25.0|             1|\n",
      "|2020-01-01 00:00:00|           4|        null|         null|       1004.3|            57|\n",
      "|2020-01-01 00:00:00|           7|      769.73|           45|       455.17|            38|\n",
      "|2020-01-01 00:00:00|          12|        null|         null|        107.0|             6|\n",
      "|2020-01-01 00:00:00|          37|      175.67|            6|       161.61|             7|\n",
      "|2020-01-01 00:00:00|          40|      168.98|            8|        89.97|             5|\n",
      "|2020-01-01 00:00:00|          45|        null|         null|       732.48|            42|\n",
      "|2020-01-01 00:00:00|          47|        13.3|            1|          8.3|             1|\n",
      "|2020-01-01 00:00:00|          51|        17.8|            2|         31.0|             1|\n",
      "|2020-01-01 00:00:00|          62|       15.95|            1|        61.43|             1|\n",
      "+-------------------+------------+------------+-------------+-------------+--------------+\n",
      "only showing top 10 rows\n",
      "\n"
     ]
    },
    {
     "name": "stderr",
     "output_type": "stream",
     "text": [
      "                                                                                \r"
     ]
    }
   ],
   "source": [
    "df_join.show(10)"
   ]
  },
  {
   "cell_type": "code",
   "execution_count": 29,
   "metadata": {},
   "outputs": [
    {
     "name": "stderr",
     "output_type": "stream",
     "text": [
      "                                                                                \r"
     ]
    }
   ],
   "source": [
    "df_join.write.parquet('./data/report/revenue/total')"
   ]
  },
  {
   "cell_type": "code",
   "execution_count": 30,
   "metadata": {},
   "outputs": [
    {
     "name": "stdout",
     "output_type": "stream",
     "text": [
      "total 13M\n",
      "-rw-r--r-- 1 sam sam    0 Mar  3 20:10 _SUCCESS\n",
      "-rw-r--r-- 1 sam sam 3.1M Mar  3 20:10 part-00000-701b7abe-0120-4a41-af57-66e2c79f8fd0-c000.snappy.parquet\n",
      "-rw-r--r-- 1 sam sam 3.1M Mar  3 20:10 part-00001-701b7abe-0120-4a41-af57-66e2c79f8fd0-c000.snappy.parquet\n",
      "-rw-r--r-- 1 sam sam 3.2M Mar  3 20:10 part-00002-701b7abe-0120-4a41-af57-66e2c79f8fd0-c000.snappy.parquet\n",
      "-rw-r--r-- 1 sam sam 3.3M Mar  3 20:10 part-00003-701b7abe-0120-4a41-af57-66e2c79f8fd0-c000.snappy.parquet\n"
     ]
    }
   ],
   "source": [
    "!ls -lh ./data/report/revenue/total"
   ]
  },
  {
   "attachments": {},
   "cell_type": "markdown",
   "metadata": {},
   "source": [
    "Let's say we want to include the names of the zones:"
   ]
  },
  {
   "cell_type": "code",
   "execution_count": 36,
   "metadata": {},
   "outputs": [
    {
     "name": "stdout",
     "output_type": "stream",
     "text": [
      "+----------+-------------+--------------------+------------+\n",
      "|LocationID|      Borough|                Zone|service_zone|\n",
      "+----------+-------------+--------------------+------------+\n",
      "|         1|          EWR|      Newark Airport|         EWR|\n",
      "|         2|       Queens|         Jamaica Bay|   Boro Zone|\n",
      "|         3|        Bronx|Allerton/Pelham G...|   Boro Zone|\n",
      "|         4|    Manhattan|       Alphabet City| Yellow Zone|\n",
      "|         5|Staten Island|       Arden Heights|   Boro Zone|\n",
      "|         6|Staten Island|Arrochar/Fort Wad...|   Boro Zone|\n",
      "|         7|       Queens|             Astoria|   Boro Zone|\n",
      "|         8|       Queens|        Astoria Park|   Boro Zone|\n",
      "|         9|       Queens|          Auburndale|   Boro Zone|\n",
      "|        10|       Queens|        Baisley Park|   Boro Zone|\n",
      "+----------+-------------+--------------------+------------+\n",
      "only showing top 10 rows\n",
      "\n"
     ]
    }
   ],
   "source": [
    "df_zones = spark.read.csv('./data/raw/taxi_zone_lookup.csv', header=True)\n",
    "df_zones.show(10)"
   ]
  },
  {
   "cell_type": "code",
   "execution_count": 47,
   "metadata": {},
   "outputs": [
    {
     "name": "stderr",
     "output_type": "stream",
     "text": [
      "[Stage 63:>                                                         (0 + 4) / 4]\r"
     ]
    },
    {
     "name": "stdout",
     "output_type": "stream",
     "text": [
      "+-------------------+------------+------------+-------------+-------------+--------------+\n",
      "|               hour|revenue_zone|amount_green|records_green|amount_yellow|records_yellow|\n",
      "+-------------------+------------+------------+-------------+-------------+--------------+\n",
      "|2020-01-01 00:00:00|           3|        null|         null|         25.0|             1|\n",
      "|2020-01-01 00:00:00|           4|        null|         null|       1004.3|            57|\n",
      "|2020-01-01 00:00:00|           7|      769.73|           45|       455.17|            38|\n",
      "|2020-01-01 00:00:00|          12|        null|         null|        107.0|             6|\n",
      "|2020-01-01 00:00:00|          37|      175.67|            6|       161.61|             7|\n",
      "|2020-01-01 00:00:00|          40|      168.98|            8|        89.97|             5|\n",
      "|2020-01-01 00:00:00|          45|        null|         null|       732.48|            42|\n",
      "|2020-01-01 00:00:00|          47|        13.3|            1|          8.3|             1|\n",
      "|2020-01-01 00:00:00|          51|        17.8|            2|         31.0|             1|\n",
      "|2020-01-01 00:00:00|          62|       15.95|            1|        61.43|             1|\n",
      "+-------------------+------------+------------+-------------+-------------+--------------+\n",
      "only showing top 10 rows\n",
      "\n"
     ]
    },
    {
     "name": "stderr",
     "output_type": "stream",
     "text": [
      "                                                                                \r"
     ]
    }
   ],
   "source": [
    "df_join.show(10)"
   ]
  },
  {
   "cell_type": "code",
   "execution_count": 50,
   "metadata": {},
   "outputs": [
    {
     "name": "stdout",
     "output_type": "stream",
     "text": [
      "+----------+-------+--------------+------------+\n",
      "|LocationID|Borough|          Zone|service_zone|\n",
      "+----------+-------+--------------+------------+\n",
      "|         1|    EWR|Newark Airport|         EWR|\n",
      "+----------+-------+--------------+------------+\n",
      "only showing top 1 row\n",
      "\n"
     ]
    }
   ],
   "source": [
    "df_zones.show(1)"
   ]
  },
  {
   "cell_type": "code",
   "execution_count": 51,
   "metadata": {},
   "outputs": [
    {
     "name": "stderr",
     "output_type": "stream",
     "text": [
      "[Stage 90:>                                                         (0 + 4) / 4]\r"
     ]
    },
    {
     "name": "stdout",
     "output_type": "stream",
     "text": [
      "+-------------------+------------+------------+-------------+-------------+--------------+----------+---------+--------------------+------------+\n",
      "|               hour|revenue_zone|amount_green|records_green|amount_yellow|records_yellow|LocationID|  Borough|                Zone|service_zone|\n",
      "+-------------------+------------+------------+-------------+-------------+--------------+----------+---------+--------------------+------------+\n",
      "|2020-01-01 00:00:00|           3|        null|         null|         25.0|             1|         3|    Bronx|Allerton/Pelham G...|   Boro Zone|\n",
      "|2020-01-01 00:00:00|           4|        null|         null|       1004.3|            57|         4|Manhattan|       Alphabet City| Yellow Zone|\n",
      "|2020-01-01 00:00:00|           7|      769.73|           45|       455.17|            38|         7|   Queens|             Astoria|   Boro Zone|\n",
      "|2020-01-01 00:00:00|          12|        null|         null|        107.0|             6|        12|Manhattan|        Battery Park| Yellow Zone|\n",
      "|2020-01-01 00:00:00|          37|      175.67|            6|       161.61|             7|        37| Brooklyn|      Bushwick South|   Boro Zone|\n",
      "|2020-01-01 00:00:00|          40|      168.98|            8|        89.97|             5|        40| Brooklyn|     Carroll Gardens|   Boro Zone|\n",
      "|2020-01-01 00:00:00|          45|        null|         null|       732.48|            42|        45|Manhattan|           Chinatown| Yellow Zone|\n",
      "|2020-01-01 00:00:00|          47|        13.3|            1|          8.3|             1|        47|    Bronx|  Claremont/Bathgate|   Boro Zone|\n",
      "|2020-01-01 00:00:00|          51|        17.8|            2|         31.0|             1|        51|    Bronx|          Co-Op City|   Boro Zone|\n",
      "|2020-01-01 00:00:00|          62|       15.95|            1|        61.43|             1|        62| Brooklyn| Crown Heights South|   Boro Zone|\n",
      "+-------------------+------------+------------+-------------+-------------+--------------+----------+---------+--------------------+------------+\n",
      "only showing top 10 rows\n",
      "\n"
     ]
    },
    {
     "name": "stderr",
     "output_type": "stream",
     "text": [
      "                                                                                \r"
     ]
    }
   ],
   "source": [
    "df_result = df_join \\\n",
    "    .join(df_zones, df_join.revenue_zone == df_zones.LocationID, how='inner')\n",
    "df_result.show(10)"
   ]
  },
  {
   "cell_type": "code",
   "execution_count": 54,
   "metadata": {},
   "outputs": [
    {
     "name": "stdout",
     "output_type": "stream",
     "text": [
      "+-------------------+--------------------+------------+-------------+-------------+--------------+\n",
      "|               hour|                Zone|amount_green|records_green|amount_yellow|records_yellow|\n",
      "+-------------------+--------------------+------------+-------------+-------------+--------------+\n",
      "|2020-01-01 00:00:00|Allerton/Pelham G...|        null|         null|         25.0|             1|\n",
      "|2020-01-01 00:00:00|       Alphabet City|        null|         null|       1004.3|            57|\n",
      "|2020-01-01 00:00:00|             Astoria|      769.73|           45|       455.17|            38|\n",
      "|2020-01-01 00:00:00|        Battery Park|        null|         null|        107.0|             6|\n",
      "|2020-01-01 00:00:00|      Bushwick South|      175.67|            6|       161.61|             7|\n",
      "|2020-01-01 00:00:00|     Carroll Gardens|      168.98|            8|        89.97|             5|\n",
      "|2020-01-01 00:00:00|           Chinatown|        null|         null|       732.48|            42|\n",
      "|2020-01-01 00:00:00|  Claremont/Bathgate|        13.3|            1|          8.3|             1|\n",
      "|2020-01-01 00:00:00|          Co-Op City|        17.8|            2|         31.0|             1|\n",
      "|2020-01-01 00:00:00| Crown Heights South|       15.95|            1|        61.43|             1|\n",
      "+-------------------+--------------------+------------+-------------+-------------+--------------+\n",
      "only showing top 10 rows\n",
      "\n"
     ]
    }
   ],
   "source": [
    "df_result \\\n",
    "    .select('hour', 'Zone', \\\n",
    "            'amount_green', 'records_green', \\\n",
    "            'amount_yellow', 'records_yellow') \\\n",
    "    .show(10)"
   ]
  }
 ],
 "metadata": {
  "kernelspec": {
   "display_name": "pyspark",
   "language": "python",
   "name": "python3"
  },
  "language_info": {
   "codemirror_mode": {
    "name": "ipython",
    "version": 3
   },
   "file_extension": ".py",
   "mimetype": "text/x-python",
   "name": "python",
   "nbconvert_exporter": "python",
   "pygments_lexer": "ipython3",
   "version": "3.9.16"
  },
  "orig_nbformat": 4
 },
 "nbformat": 4,
 "nbformat_minor": 2
}
